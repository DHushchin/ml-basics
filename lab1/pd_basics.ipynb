{
 "cells": [
  {
   "cell_type": "code",
   "execution_count": 1,
   "metadata": {},
   "outputs": [],
   "source": [
    "import numpy as np\n",
    "import pandas as pd"
   ]
  },
  {
   "cell_type": "code",
   "execution_count": 25,
   "metadata": {},
   "outputs": [
    {
     "name": "stdout",
     "output_type": "stream",
     "text": [
      "<class 'pandas.core.frame.DataFrame'>\n"
     ]
    },
    {
     "data": {
      "text/html": [
       "<div>\n",
       "<style scoped>\n",
       "    .dataframe tbody tr th:only-of-type {\n",
       "        vertical-align: middle;\n",
       "    }\n",
       "\n",
       "    .dataframe tbody tr th {\n",
       "        vertical-align: top;\n",
       "    }\n",
       "\n",
       "    .dataframe thead th {\n",
       "        text-align: right;\n",
       "    }\n",
       "</style>\n",
       "<table border=\"1\" class=\"dataframe\">\n",
       "  <thead>\n",
       "    <tr style=\"text-align: right;\">\n",
       "      <th></th>\n",
       "      <th>country</th>\n",
       "      <th>year</th>\n",
       "      <th>life_expect</th>\n",
       "    </tr>\n",
       "  </thead>\n",
       "  <tbody>\n",
       "    <tr>\n",
       "      <th>16</th>\n",
       "      <td>Angola</td>\n",
       "      <td>2016</td>\n",
       "      <td>62.63262</td>\n",
       "    </tr>\n",
       "    <tr>\n",
       "      <th>33</th>\n",
       "      <td>Burundi</td>\n",
       "      <td>2016</td>\n",
       "      <td>60.09811</td>\n",
       "    </tr>\n",
       "    <tr>\n",
       "      <th>50</th>\n",
       "      <td>Benin</td>\n",
       "      <td>2016</td>\n",
       "      <td>61.08568</td>\n",
       "    </tr>\n",
       "    <tr>\n",
       "      <th>67</th>\n",
       "      <td>Burkina Faso</td>\n",
       "      <td>2016</td>\n",
       "      <td>60.32101</td>\n",
       "    </tr>\n",
       "    <tr>\n",
       "      <th>84</th>\n",
       "      <td>Botswana</td>\n",
       "      <td>2016</td>\n",
       "      <td>66.05297</td>\n",
       "    </tr>\n",
       "    <tr>\n",
       "      <th>...</th>\n",
       "      <td>...</td>\n",
       "      <td>...</td>\n",
       "      <td>...</td>\n",
       "    </tr>\n",
       "    <tr>\n",
       "      <th>3042</th>\n",
       "      <td>Japan</td>\n",
       "      <td>2016</td>\n",
       "      <td>84.16616</td>\n",
       "    </tr>\n",
       "    <tr>\n",
       "      <th>3059</th>\n",
       "      <td>Cambodia</td>\n",
       "      <td>2016</td>\n",
       "      <td>69.36723</td>\n",
       "    </tr>\n",
       "    <tr>\n",
       "      <th>3076</th>\n",
       "      <td>Kiribati</td>\n",
       "      <td>2016</td>\n",
       "      <td>66.12499</td>\n",
       "    </tr>\n",
       "    <tr>\n",
       "      <th>3093</th>\n",
       "      <td>Republic of Korea</td>\n",
       "      <td>2016</td>\n",
       "      <td>82.66409</td>\n",
       "    </tr>\n",
       "    <tr>\n",
       "      <th>3110</th>\n",
       "      <td>Lao People's Democratic Republic</td>\n",
       "      <td>2016</td>\n",
       "      <td>65.79089</td>\n",
       "    </tr>\n",
       "  </tbody>\n",
       "</table>\n",
       "<p>183 rows × 3 columns</p>\n",
       "</div>"
      ],
      "text/plain": [
       "                               country  year  life_expect\n",
       "16                              Angola  2016     62.63262\n",
       "33                             Burundi  2016     60.09811\n",
       "50                               Benin  2016     61.08568\n",
       "67                        Burkina Faso  2016     60.32101\n",
       "84                            Botswana  2016     66.05297\n",
       "...                                ...   ...          ...\n",
       "3042                             Japan  2016     84.16616\n",
       "3059                          Cambodia  2016     69.36723\n",
       "3076                          Kiribati  2016     66.12499\n",
       "3093                 Republic of Korea  2016     82.66409\n",
       "3110  Lao People's Democratic Republic  2016     65.79089\n",
       "\n",
       "[183 rows x 3 columns]"
      ]
     },
     "execution_count": 25,
     "metadata": {},
     "output_type": "execute_result"
    }
   ],
   "source": [
    "# DataFrame\n",
    "stats = pd.read_csv(\"Life Expectancy Data.csv\", sep=',', usecols=[\"country\", \"year\", \"life_expect\"])[lambda x: x['year'] == 2016]\n",
    "print(type(stats))\n",
    "stats"
   ]
  },
  {
   "cell_type": "code",
   "execution_count": 3,
   "metadata": {},
   "outputs": [
    {
     "data": {
      "text/html": [
       "<div>\n",
       "<style scoped>\n",
       "    .dataframe tbody tr th:only-of-type {\n",
       "        vertical-align: middle;\n",
       "    }\n",
       "\n",
       "    .dataframe tbody tr th {\n",
       "        vertical-align: top;\n",
       "    }\n",
       "\n",
       "    .dataframe thead th {\n",
       "        text-align: right;\n",
       "    }\n",
       "</style>\n",
       "<table border=\"1\" class=\"dataframe\">\n",
       "  <thead>\n",
       "    <tr style=\"text-align: right;\">\n",
       "      <th></th>\n",
       "      <th>country</th>\n",
       "      <th>year</th>\n",
       "      <th>life_expect</th>\n",
       "    </tr>\n",
       "  </thead>\n",
       "  <tbody>\n",
       "    <tr>\n",
       "      <th>Ango</th>\n",
       "      <td>Angola</td>\n",
       "      <td>2016</td>\n",
       "      <td>62.63262</td>\n",
       "    </tr>\n",
       "    <tr>\n",
       "      <th>Buru</th>\n",
       "      <td>Burundi</td>\n",
       "      <td>2016</td>\n",
       "      <td>60.09811</td>\n",
       "    </tr>\n",
       "    <tr>\n",
       "      <th>Beni</th>\n",
       "      <td>Benin</td>\n",
       "      <td>2016</td>\n",
       "      <td>61.08568</td>\n",
       "    </tr>\n",
       "    <tr>\n",
       "      <th>Burk</th>\n",
       "      <td>Burkina Faso</td>\n",
       "      <td>2016</td>\n",
       "      <td>60.32101</td>\n",
       "    </tr>\n",
       "    <tr>\n",
       "      <th>Bots</th>\n",
       "      <td>Botswana</td>\n",
       "      <td>2016</td>\n",
       "      <td>66.05297</td>\n",
       "    </tr>\n",
       "    <tr>\n",
       "      <th>...</th>\n",
       "      <td>...</td>\n",
       "      <td>...</td>\n",
       "      <td>...</td>\n",
       "    </tr>\n",
       "    <tr>\n",
       "      <th>Japa</th>\n",
       "      <td>Japan</td>\n",
       "      <td>2016</td>\n",
       "      <td>84.16616</td>\n",
       "    </tr>\n",
       "    <tr>\n",
       "      <th>Camb</th>\n",
       "      <td>Cambodia</td>\n",
       "      <td>2016</td>\n",
       "      <td>69.36723</td>\n",
       "    </tr>\n",
       "    <tr>\n",
       "      <th>Kiri</th>\n",
       "      <td>Kiribati</td>\n",
       "      <td>2016</td>\n",
       "      <td>66.12499</td>\n",
       "    </tr>\n",
       "    <tr>\n",
       "      <th>Repu</th>\n",
       "      <td>Republic of Korea</td>\n",
       "      <td>2016</td>\n",
       "      <td>82.66409</td>\n",
       "    </tr>\n",
       "    <tr>\n",
       "      <th>Lao</th>\n",
       "      <td>Lao People's Democratic Republic</td>\n",
       "      <td>2016</td>\n",
       "      <td>65.79089</td>\n",
       "    </tr>\n",
       "  </tbody>\n",
       "</table>\n",
       "<p>183 rows × 3 columns</p>\n",
       "</div>"
      ],
      "text/plain": [
       "                               country  year  life_expect\n",
       "Ango                            Angola  2016     62.63262\n",
       "Buru                           Burundi  2016     60.09811\n",
       "Beni                             Benin  2016     61.08568\n",
       "Burk                      Burkina Faso  2016     60.32101\n",
       "Bots                          Botswana  2016     66.05297\n",
       "...                                ...   ...          ...\n",
       "Japa                             Japan  2016     84.16616\n",
       "Camb                          Cambodia  2016     69.36723\n",
       "Kiri                          Kiribati  2016     66.12499\n",
       "Repu                 Republic of Korea  2016     82.66409\n",
       "Lao   Lao People's Democratic Republic  2016     65.79089\n",
       "\n",
       "[183 rows x 3 columns]"
      ]
     },
     "execution_count": 3,
     "metadata": {},
     "output_type": "execute_result"
    }
   ],
   "source": [
    "# Indexes\n",
    "stats.index = map(lambda x: x[:4], stats['country'].values)\n",
    "stats"
   ]
  },
  {
   "cell_type": "code",
   "execution_count": 4,
   "metadata": {},
   "outputs": [
    {
     "name": "stdout",
     "output_type": "stream",
     "text": [
      "<class 'pandas.core.series.Series'>\n"
     ]
    },
    {
     "data": {
      "text/plain": [
       "Ango    62.63262\n",
       "Buru    60.09811\n",
       "Beni    61.08568\n",
       "Burk    60.32101\n",
       "Bots    66.05297\n",
       "          ...   \n",
       "Japa    84.16616\n",
       "Camb    69.36723\n",
       "Kiri    66.12499\n",
       "Repu    82.66409\n",
       "Lao     65.79089\n",
       "Name: life_expect, Length: 183, dtype: float64"
      ]
     },
     "execution_count": 4,
     "metadata": {},
     "output_type": "execute_result"
    }
   ],
   "source": [
    "# Series\n",
    "age = stats[\"life_expect\"]\n",
    "print(type(age))\n",
    "age"
   ]
  },
  {
   "cell_type": "code",
   "execution_count": 5,
   "metadata": {},
   "outputs": [
    {
     "data": {
      "text/plain": [
       "Ango    62\n",
       "Buru    60\n",
       "Beni    61\n",
       "Burk    60\n",
       "Bots    66\n",
       "        ..\n",
       "Japa    84\n",
       "Camb    69\n",
       "Kiri    66\n",
       "Repu    82\n",
       "Lao     65\n",
       "Name: life_expect, Length: 183, dtype: int32"
      ]
     },
     "execution_count": 5,
     "metadata": {},
     "output_type": "execute_result"
    }
   ],
   "source": [
    "# Change type\n",
    "age = age.astype(int)\n",
    "age"
   ]
  },
  {
   "cell_type": "code",
   "execution_count": 6,
   "metadata": {},
   "outputs": [
    {
     "data": {
      "text/plain": [
       "62"
      ]
     },
     "execution_count": 6,
     "metadata": {},
     "output_type": "execute_result"
    }
   ],
   "source": [
    "# Get element by index\n",
    "age['Ango']"
   ]
  },
  {
   "cell_type": "code",
   "execution_count": 7,
   "metadata": {},
   "outputs": [
    {
     "data": {
      "text/plain": [
       "69"
      ]
     },
     "execution_count": 7,
     "metadata": {},
     "output_type": "execute_result"
    }
   ],
   "source": [
    "# Get element as attribute\n",
    "age.Camb"
   ]
  },
  {
   "cell_type": "code",
   "execution_count": 8,
   "metadata": {},
   "outputs": [
    {
     "data": {
      "text/plain": [
       "Ango    62\n",
       "Buru    60\n",
       "Beni    61\n",
       "Burk    60\n",
       "Bots    66\n",
       "        ..\n",
       "Japa    84\n",
       "Camb    69\n",
       "Kiri    66\n",
       "Repu    82\n",
       "Lao     65\n",
       "Name: life_expect, Length: 183, dtype: object"
      ]
     },
     "execution_count": 8,
     "metadata": {},
     "output_type": "execute_result"
    }
   ],
   "source": [
    "age = age.astype(str)\n",
    "age"
   ]
  },
  {
   "cell_type": "code",
   "execution_count": 9,
   "metadata": {},
   "outputs": [
    {
     "data": {
      "text/plain": [
       "Ango    False\n",
       "Buru    False\n",
       "Beni    False\n",
       "Burk    False\n",
       "Bots    False\n",
       "        ...  \n",
       "Japa     True\n",
       "Camb    False\n",
       "Kiri    False\n",
       "Repu     True\n",
       "Lao     False\n",
       "Name: life_expect, Length: 183, dtype: bool"
      ]
     },
     "execution_count": 9,
     "metadata": {},
     "output_type": "execute_result"
    }
   ],
   "source": [
    "# String methods\n",
    "age.str.contains('8')"
   ]
  },
  {
   "cell_type": "code",
   "execution_count": 10,
   "metadata": {},
   "outputs": [
    {
     "data": {
      "text/plain": [
       "ANGO    62\n",
       "BURU    60\n",
       "BENI    61\n",
       "BURK    60\n",
       "BOTS    66\n",
       "        ..\n",
       "JAPA    84\n",
       "CAMB    69\n",
       "KIRI    66\n",
       "REPU    82\n",
       "LAO     65\n",
       "Name: life_expect, Length: 183, dtype: object"
      ]
     },
     "execution_count": 10,
     "metadata": {},
     "output_type": "execute_result"
    }
   ],
   "source": [
    "# String methods\n",
    "age.index = age.index.str.upper()\n",
    "age"
   ]
  },
  {
   "cell_type": "code",
   "execution_count": 11,
   "metadata": {},
   "outputs": [
    {
     "data": {
      "text/html": [
       "<div>\n",
       "<style scoped>\n",
       "    .dataframe tbody tr th:only-of-type {\n",
       "        vertical-align: middle;\n",
       "    }\n",
       "\n",
       "    .dataframe tbody tr th {\n",
       "        vertical-align: top;\n",
       "    }\n",
       "\n",
       "    .dataframe thead th {\n",
       "        text-align: right;\n",
       "    }\n",
       "</style>\n",
       "<table border=\"1\" class=\"dataframe\">\n",
       "  <thead>\n",
       "    <tr style=\"text-align: right;\">\n",
       "      <th></th>\n",
       "      <th>country</th>\n",
       "      <th>year</th>\n",
       "      <th>life_expect</th>\n",
       "    </tr>\n",
       "  </thead>\n",
       "  <tbody>\n",
       "    <tr>\n",
       "      <th>Ango</th>\n",
       "      <td>Angola</td>\n",
       "      <td>2016</td>\n",
       "      <td>62.63262</td>\n",
       "    </tr>\n",
       "    <tr>\n",
       "      <th>Buru</th>\n",
       "      <td>Burundi</td>\n",
       "      <td>2016</td>\n",
       "      <td>60.09811</td>\n",
       "    </tr>\n",
       "    <tr>\n",
       "      <th>Beni</th>\n",
       "      <td>Benin</td>\n",
       "      <td>2016</td>\n",
       "      <td>61.08568</td>\n",
       "    </tr>\n",
       "    <tr>\n",
       "      <th>Burk</th>\n",
       "      <td>Burkina Faso</td>\n",
       "      <td>2016</td>\n",
       "      <td>60.32101</td>\n",
       "    </tr>\n",
       "    <tr>\n",
       "      <th>Bots</th>\n",
       "      <td>Botswana</td>\n",
       "      <td>2016</td>\n",
       "      <td>66.05297</td>\n",
       "    </tr>\n",
       "    <tr>\n",
       "      <th>...</th>\n",
       "      <td>...</td>\n",
       "      <td>...</td>\n",
       "      <td>...</td>\n",
       "    </tr>\n",
       "    <tr>\n",
       "      <th>Japa</th>\n",
       "      <td>Japan</td>\n",
       "      <td>2016</td>\n",
       "      <td>84.16616</td>\n",
       "    </tr>\n",
       "    <tr>\n",
       "      <th>Camb</th>\n",
       "      <td>Cambodia</td>\n",
       "      <td>2016</td>\n",
       "      <td>69.36723</td>\n",
       "    </tr>\n",
       "    <tr>\n",
       "      <th>Kiri</th>\n",
       "      <td>Kiribati</td>\n",
       "      <td>2016</td>\n",
       "      <td>66.12499</td>\n",
       "    </tr>\n",
       "    <tr>\n",
       "      <th>Repu</th>\n",
       "      <td>Republic of Korea</td>\n",
       "      <td>2016</td>\n",
       "      <td>82.66409</td>\n",
       "    </tr>\n",
       "    <tr>\n",
       "      <th>Lao</th>\n",
       "      <td>Lao People's Democratic Republic</td>\n",
       "      <td>2016</td>\n",
       "      <td>65.79089</td>\n",
       "    </tr>\n",
       "  </tbody>\n",
       "</table>\n",
       "<p>183 rows × 3 columns</p>\n",
       "</div>"
      ],
      "text/plain": [
       "                               country  year  life_expect\n",
       "Ango                            Angola  2016     62.63262\n",
       "Buru                           Burundi  2016     60.09811\n",
       "Beni                             Benin  2016     61.08568\n",
       "Burk                      Burkina Faso  2016     60.32101\n",
       "Bots                          Botswana  2016     66.05297\n",
       "...                                ...   ...          ...\n",
       "Japa                             Japan  2016     84.16616\n",
       "Camb                          Cambodia  2016     69.36723\n",
       "Kiri                          Kiribati  2016     66.12499\n",
       "Repu                 Republic of Korea  2016     82.66409\n",
       "Lao   Lao People's Democratic Republic  2016     65.79089\n",
       "\n",
       "[183 rows x 3 columns]"
      ]
     },
     "execution_count": 11,
     "metadata": {},
     "output_type": "execute_result"
    }
   ],
   "source": [
    "stats"
   ]
  },
  {
   "cell_type": "code",
   "execution_count": 12,
   "metadata": {},
   "outputs": [
    {
     "data": {
      "text/html": [
       "<div>\n",
       "<style scoped>\n",
       "    .dataframe tbody tr th:only-of-type {\n",
       "        vertical-align: middle;\n",
       "    }\n",
       "\n",
       "    .dataframe tbody tr th {\n",
       "        vertical-align: top;\n",
       "    }\n",
       "\n",
       "    .dataframe thead th {\n",
       "        text-align: right;\n",
       "    }\n",
       "</style>\n",
       "<table border=\"1\" class=\"dataframe\">\n",
       "  <thead>\n",
       "    <tr style=\"text-align: right;\">\n",
       "      <th></th>\n",
       "      <th>year</th>\n",
       "      <th>life_expect</th>\n",
       "    </tr>\n",
       "  </thead>\n",
       "  <tbody>\n",
       "    <tr>\n",
       "      <th>count</th>\n",
       "      <td>183.0</td>\n",
       "      <td>183.000000</td>\n",
       "    </tr>\n",
       "    <tr>\n",
       "      <th>mean</th>\n",
       "      <td>2016.0</td>\n",
       "      <td>71.787813</td>\n",
       "    </tr>\n",
       "    <tr>\n",
       "      <th>std</th>\n",
       "      <td>0.0</td>\n",
       "      <td>7.629027</td>\n",
       "    </tr>\n",
       "    <tr>\n",
       "      <th>min</th>\n",
       "      <td>2016.0</td>\n",
       "      <td>52.938010</td>\n",
       "    </tr>\n",
       "    <tr>\n",
       "      <th>25%</th>\n",
       "      <td>2016.0</td>\n",
       "      <td>66.070495</td>\n",
       "    </tr>\n",
       "    <tr>\n",
       "      <th>50%</th>\n",
       "      <td>2016.0</td>\n",
       "      <td>73.403960</td>\n",
       "    </tr>\n",
       "    <tr>\n",
       "      <th>75%</th>\n",
       "      <td>2016.0</td>\n",
       "      <td>76.872085</td>\n",
       "    </tr>\n",
       "    <tr>\n",
       "      <th>max</th>\n",
       "      <td>2016.0</td>\n",
       "      <td>84.166160</td>\n",
       "    </tr>\n",
       "  </tbody>\n",
       "</table>\n",
       "</div>"
      ],
      "text/plain": [
       "         year  life_expect\n",
       "count   183.0   183.000000\n",
       "mean   2016.0    71.787813\n",
       "std       0.0     7.629027\n",
       "min    2016.0    52.938010\n",
       "25%    2016.0    66.070495\n",
       "50%    2016.0    73.403960\n",
       "75%    2016.0    76.872085\n",
       "max    2016.0    84.166160"
      ]
     },
     "execution_count": 12,
     "metadata": {},
     "output_type": "execute_result"
    }
   ],
   "source": [
    "#statistics\n",
    "stats.describe()"
   ]
  },
  {
   "cell_type": "code",
   "execution_count": 13,
   "metadata": {},
   "outputs": [
    {
     "data": {
      "text/plain": [
       "Ango                              Angola\n",
       "Buru                             Burundi\n",
       "Beni                               Benin\n",
       "Burk                        Burkina Faso\n",
       "Bots                            Botswana\n",
       "                      ...               \n",
       "Japa                               Japan\n",
       "Camb                            Cambodia\n",
       "Kiri                            Kiribati\n",
       "Repu                   Republic of Korea\n",
       "Lao     Lao People's Democratic Republic\n",
       "Name: country, Length: 183, dtype: object"
      ]
     },
     "execution_count": 13,
     "metadata": {},
     "output_type": "execute_result"
    }
   ],
   "source": [
    "stats.country"
   ]
  },
  {
   "cell_type": "code",
   "execution_count": 14,
   "metadata": {},
   "outputs": [
    {
     "data": {
      "text/plain": [
       "country          Angola\n",
       "year               2016\n",
       "life_expect    62.63262\n",
       "Name: Ango, dtype: object"
      ]
     },
     "execution_count": 14,
     "metadata": {},
     "output_type": "execute_result"
    }
   ],
   "source": [
    "# Usage of loc/iloc methods\n",
    "stats.loc['Ango']"
   ]
  },
  {
   "cell_type": "code",
   "execution_count": 15,
   "metadata": {},
   "outputs": [
    {
     "data": {
      "text/plain": [
       "country         Burundi\n",
       "year               2016\n",
       "life_expect    60.09811\n",
       "Name: Buru, dtype: object"
      ]
     },
     "execution_count": 15,
     "metadata": {},
     "output_type": "execute_result"
    }
   ],
   "source": [
    "stats.iloc[1]"
   ]
  },
  {
   "cell_type": "code",
   "execution_count": 16,
   "metadata": {},
   "outputs": [
    {
     "data": {
      "text/html": [
       "<div>\n",
       "<style scoped>\n",
       "    .dataframe tbody tr th:only-of-type {\n",
       "        vertical-align: middle;\n",
       "    }\n",
       "\n",
       "    .dataframe tbody tr th {\n",
       "        vertical-align: top;\n",
       "    }\n",
       "\n",
       "    .dataframe thead th {\n",
       "        text-align: right;\n",
       "    }\n",
       "</style>\n",
       "<table border=\"1\" class=\"dataframe\">\n",
       "  <thead>\n",
       "    <tr style=\"text-align: right;\">\n",
       "      <th></th>\n",
       "      <th>country</th>\n",
       "      <th>year</th>\n",
       "      <th>life_expect</th>\n",
       "    </tr>\n",
       "  </thead>\n",
       "  <tbody>\n",
       "    <tr>\n",
       "      <th>Ango</th>\n",
       "      <td>Angola</td>\n",
       "      <td>2016</td>\n",
       "      <td>62.63262</td>\n",
       "    </tr>\n",
       "    <tr>\n",
       "      <th>Buru</th>\n",
       "      <td>Burundi</td>\n",
       "      <td>2016</td>\n",
       "      <td>60.09811</td>\n",
       "    </tr>\n",
       "    <tr>\n",
       "      <th>Beni</th>\n",
       "      <td>Benin</td>\n",
       "      <td>2016</td>\n",
       "      <td>61.08568</td>\n",
       "    </tr>\n",
       "    <tr>\n",
       "      <th>Burk</th>\n",
       "      <td>Burkina Faso</td>\n",
       "      <td>2016</td>\n",
       "      <td>60.32101</td>\n",
       "    </tr>\n",
       "    <tr>\n",
       "      <th>Bots</th>\n",
       "      <td>Botswana</td>\n",
       "      <td>2016</td>\n",
       "      <td>66.05297</td>\n",
       "    </tr>\n",
       "  </tbody>\n",
       "</table>\n",
       "</div>"
      ],
      "text/plain": [
       "           country  year  life_expect\n",
       "Ango        Angola  2016     62.63262\n",
       "Buru       Burundi  2016     60.09811\n",
       "Beni         Benin  2016     61.08568\n",
       "Burk  Burkina Faso  2016     60.32101\n",
       "Bots      Botswana  2016     66.05297"
      ]
     },
     "execution_count": 16,
     "metadata": {},
     "output_type": "execute_result"
    }
   ],
   "source": [
    "stats.iloc[0:5]"
   ]
  },
  {
   "cell_type": "code",
   "execution_count": 17,
   "metadata": {},
   "outputs": [
    {
     "data": {
      "text/html": [
       "<div>\n",
       "<style scoped>\n",
       "    .dataframe tbody tr th:only-of-type {\n",
       "        vertical-align: middle;\n",
       "    }\n",
       "\n",
       "    .dataframe tbody tr th {\n",
       "        vertical-align: top;\n",
       "    }\n",
       "\n",
       "    .dataframe thead th {\n",
       "        text-align: right;\n",
       "    }\n",
       "</style>\n",
       "<table border=\"1\" class=\"dataframe\">\n",
       "  <thead>\n",
       "    <tr style=\"text-align: right;\">\n",
       "      <th></th>\n",
       "      <th>country</th>\n",
       "      <th>year</th>\n",
       "      <th>life_expect</th>\n",
       "    </tr>\n",
       "  </thead>\n",
       "  <tbody>\n",
       "    <tr>\n",
       "      <th>Ango</th>\n",
       "      <td>Angola</td>\n",
       "      <td>2016</td>\n",
       "      <td>62.63262</td>\n",
       "    </tr>\n",
       "    <tr>\n",
       "      <th>Buru</th>\n",
       "      <td>Burundi</td>\n",
       "      <td>2016</td>\n",
       "      <td>60.09811</td>\n",
       "    </tr>\n",
       "  </tbody>\n",
       "</table>\n",
       "</div>"
      ],
      "text/plain": [
       "      country  year  life_expect\n",
       "Ango   Angola  2016     62.63262\n",
       "Buru  Burundi  2016     60.09811"
      ]
     },
     "execution_count": 17,
     "metadata": {},
     "output_type": "execute_result"
    }
   ],
   "source": [
    "stats.loc[['Ango', 'Buru']]"
   ]
  },
  {
   "cell_type": "code",
   "execution_count": 18,
   "metadata": {},
   "outputs": [
    {
     "data": {
      "text/html": [
       "<div>\n",
       "<style scoped>\n",
       "    .dataframe tbody tr th:only-of-type {\n",
       "        vertical-align: middle;\n",
       "    }\n",
       "\n",
       "    .dataframe tbody tr th {\n",
       "        vertical-align: top;\n",
       "    }\n",
       "\n",
       "    .dataframe thead th {\n",
       "        text-align: right;\n",
       "    }\n",
       "</style>\n",
       "<table border=\"1\" class=\"dataframe\">\n",
       "  <thead>\n",
       "    <tr style=\"text-align: right;\">\n",
       "      <th></th>\n",
       "      <th>country</th>\n",
       "      <th>life_expect</th>\n",
       "    </tr>\n",
       "  </thead>\n",
       "  <tbody>\n",
       "    <tr>\n",
       "      <th>Ango</th>\n",
       "      <td>Angola</td>\n",
       "      <td>62.63262</td>\n",
       "    </tr>\n",
       "    <tr>\n",
       "      <th>Buru</th>\n",
       "      <td>Burundi</td>\n",
       "      <td>60.09811</td>\n",
       "    </tr>\n",
       "  </tbody>\n",
       "</table>\n",
       "</div>"
      ],
      "text/plain": [
       "      country  life_expect\n",
       "Ango   Angola     62.63262\n",
       "Buru  Burundi     60.09811"
      ]
     },
     "execution_count": 18,
     "metadata": {},
     "output_type": "execute_result"
    }
   ],
   "source": [
    "stats.loc[['Ango', 'Buru'], ['country', 'life_expect']]"
   ]
  },
  {
   "cell_type": "code",
   "execution_count": 19,
   "metadata": {},
   "outputs": [
    {
     "data": {
      "text/html": [
       "<div>\n",
       "<style scoped>\n",
       "    .dataframe tbody tr th:only-of-type {\n",
       "        vertical-align: middle;\n",
       "    }\n",
       "\n",
       "    .dataframe tbody tr th {\n",
       "        vertical-align: top;\n",
       "    }\n",
       "\n",
       "    .dataframe thead th {\n",
       "        text-align: right;\n",
       "    }\n",
       "</style>\n",
       "<table border=\"1\" class=\"dataframe\">\n",
       "  <thead>\n",
       "    <tr style=\"text-align: right;\">\n",
       "      <th></th>\n",
       "      <th>country</th>\n",
       "      <th>life_expect</th>\n",
       "    </tr>\n",
       "  </thead>\n",
       "  <tbody>\n",
       "    <tr>\n",
       "      <th>Ango</th>\n",
       "      <td>Angola</td>\n",
       "      <td>62.63262</td>\n",
       "    </tr>\n",
       "    <tr>\n",
       "      <th>Buru</th>\n",
       "      <td>Burundi</td>\n",
       "      <td>60.09811</td>\n",
       "    </tr>\n",
       "    <tr>\n",
       "      <th>Beni</th>\n",
       "      <td>Benin</td>\n",
       "      <td>61.08568</td>\n",
       "    </tr>\n",
       "    <tr>\n",
       "      <th>Burk</th>\n",
       "      <td>Burkina Faso</td>\n",
       "      <td>60.32101</td>\n",
       "    </tr>\n",
       "    <tr>\n",
       "      <th>Bots</th>\n",
       "      <td>Botswana</td>\n",
       "      <td>66.05297</td>\n",
       "    </tr>\n",
       "  </tbody>\n",
       "</table>\n",
       "</div>"
      ],
      "text/plain": [
       "           country  life_expect\n",
       "Ango        Angola     62.63262\n",
       "Buru       Burundi     60.09811\n",
       "Beni         Benin     61.08568\n",
       "Burk  Burkina Faso     60.32101\n",
       "Bots      Botswana     66.05297"
      ]
     },
     "execution_count": 19,
     "metadata": {},
     "output_type": "execute_result"
    }
   ],
   "source": [
    "stats.iloc[0:5, [0, 2]]"
   ]
  },
  {
   "cell_type": "code",
   "execution_count": 26,
   "metadata": {},
   "outputs": [
    {
     "data": {
      "text/html": [
       "<div>\n",
       "<style scoped>\n",
       "    .dataframe tbody tr th:only-of-type {\n",
       "        vertical-align: middle;\n",
       "    }\n",
       "\n",
       "    .dataframe tbody tr th {\n",
       "        vertical-align: top;\n",
       "    }\n",
       "\n",
       "    .dataframe thead th {\n",
       "        text-align: right;\n",
       "    }\n",
       "</style>\n",
       "<table border=\"1\" class=\"dataframe\">\n",
       "  <thead>\n",
       "    <tr style=\"text-align: right;\">\n",
       "      <th></th>\n",
       "      <th>country</th>\n",
       "      <th>year</th>\n",
       "      <th>life_expect</th>\n",
       "    </tr>\n",
       "  </thead>\n",
       "  <tbody>\n",
       "    <tr>\n",
       "      <th>1325</th>\n",
       "      <td>Canada</td>\n",
       "      <td>2016</td>\n",
       "      <td>82.80972</td>\n",
       "    </tr>\n",
       "    <tr>\n",
       "      <th>1767</th>\n",
       "      <td>Austria</td>\n",
       "      <td>2016</td>\n",
       "      <td>81.87031</td>\n",
       "    </tr>\n",
       "    <tr>\n",
       "      <th>1801</th>\n",
       "      <td>Belgium</td>\n",
       "      <td>2016</td>\n",
       "      <td>81.16279</td>\n",
       "    </tr>\n",
       "    <tr>\n",
       "      <th>1818</th>\n",
       "      <td>Sweden</td>\n",
       "      <td>2016</td>\n",
       "      <td>82.36343</td>\n",
       "    </tr>\n",
       "    <tr>\n",
       "      <th>1954</th>\n",
       "      <td>Slovenia</td>\n",
       "      <td>2016</td>\n",
       "      <td>80.91451</td>\n",
       "    </tr>\n",
       "  </tbody>\n",
       "</table>\n",
       "</div>"
      ],
      "text/plain": [
       "       country  year  life_expect\n",
       "1325    Canada  2016     82.80972\n",
       "1767   Austria  2016     81.87031\n",
       "1801   Belgium  2016     81.16279\n",
       "1818    Sweden  2016     82.36343\n",
       "1954  Slovenia  2016     80.91451"
      ]
     },
     "execution_count": 26,
     "metadata": {},
     "output_type": "execute_result"
    }
   ],
   "source": [
    "# Boolean indexing\n",
    "stats[stats[\"life_expect\"] > 80].head()"
   ]
  },
  {
   "cell_type": "code",
   "execution_count": 30,
   "metadata": {},
   "outputs": [
    {
     "data": {
      "text/html": [
       "<div>\n",
       "<style scoped>\n",
       "    .dataframe tbody tr th:only-of-type {\n",
       "        vertical-align: middle;\n",
       "    }\n",
       "\n",
       "    .dataframe tbody tr th {\n",
       "        vertical-align: top;\n",
       "    }\n",
       "\n",
       "    .dataframe thead th {\n",
       "        text-align: right;\n",
       "    }\n",
       "</style>\n",
       "<table border=\"1\" class=\"dataframe\">\n",
       "  <thead>\n",
       "    <tr style=\"text-align: right;\">\n",
       "      <th></th>\n",
       "      <th>16</th>\n",
       "      <th>33</th>\n",
       "      <th>50</th>\n",
       "      <th>67</th>\n",
       "      <th>84</th>\n",
       "    </tr>\n",
       "  </thead>\n",
       "  <tbody>\n",
       "    <tr>\n",
       "      <th>country</th>\n",
       "      <td>Angola</td>\n",
       "      <td>Burundi</td>\n",
       "      <td>Benin</td>\n",
       "      <td>Burkina Faso</td>\n",
       "      <td>Botswana</td>\n",
       "    </tr>\n",
       "    <tr>\n",
       "      <th>year</th>\n",
       "      <td>2016</td>\n",
       "      <td>2016</td>\n",
       "      <td>2016</td>\n",
       "      <td>2016</td>\n",
       "      <td>2016</td>\n",
       "    </tr>\n",
       "    <tr>\n",
       "      <th>life_expect</th>\n",
       "      <td>62.63262</td>\n",
       "      <td>60.09811</td>\n",
       "      <td>61.08568</td>\n",
       "      <td>60.32101</td>\n",
       "      <td>66.05297</td>\n",
       "    </tr>\n",
       "  </tbody>\n",
       "</table>\n",
       "</div>"
      ],
      "text/plain": [
       "                   16        33        50            67        84\n",
       "country        Angola   Burundi     Benin  Burkina Faso  Botswana\n",
       "year             2016      2016      2016          2016      2016\n",
       "life_expect  62.63262  60.09811  61.08568      60.32101  66.05297"
      ]
     },
     "execution_count": 30,
     "metadata": {},
     "output_type": "execute_result"
    }
   ],
   "source": [
    "# Transposed dataframe  \n",
    "stats.head().T"
   ]
  },
  {
   "cell_type": "code",
   "execution_count": 31,
   "metadata": {},
   "outputs": [
    {
     "data": {
      "text/html": [
       "<div>\n",
       "<style scoped>\n",
       "    .dataframe tbody tr th:only-of-type {\n",
       "        vertical-align: middle;\n",
       "    }\n",
       "\n",
       "    .dataframe tbody tr th {\n",
       "        vertical-align: top;\n",
       "    }\n",
       "\n",
       "    .dataframe thead th {\n",
       "        text-align: right;\n",
       "    }\n",
       "</style>\n",
       "<table border=\"1\" class=\"dataframe\">\n",
       "  <thead>\n",
       "    <tr style=\"text-align: right;\">\n",
       "      <th></th>\n",
       "      <th>country</th>\n",
       "      <th>year</th>\n",
       "      <th>life_expect</th>\n",
       "    </tr>\n",
       "  </thead>\n",
       "  <tbody>\n",
       "    <tr>\n",
       "      <th>3110</th>\n",
       "      <td>Lao People's Democratic Republic</td>\n",
       "      <td>2016</td>\n",
       "      <td>65.79089</td>\n",
       "    </tr>\n",
       "    <tr>\n",
       "      <th>3093</th>\n",
       "      <td>Republic of Korea</td>\n",
       "      <td>2016</td>\n",
       "      <td>82.66409</td>\n",
       "    </tr>\n",
       "    <tr>\n",
       "      <th>3076</th>\n",
       "      <td>Kiribati</td>\n",
       "      <td>2016</td>\n",
       "      <td>66.12499</td>\n",
       "    </tr>\n",
       "    <tr>\n",
       "      <th>3059</th>\n",
       "      <td>Cambodia</td>\n",
       "      <td>2016</td>\n",
       "      <td>69.36723</td>\n",
       "    </tr>\n",
       "    <tr>\n",
       "      <th>3042</th>\n",
       "      <td>Japan</td>\n",
       "      <td>2016</td>\n",
       "      <td>84.16616</td>\n",
       "    </tr>\n",
       "    <tr>\n",
       "      <th>...</th>\n",
       "      <td>...</td>\n",
       "      <td>...</td>\n",
       "      <td>...</td>\n",
       "    </tr>\n",
       "    <tr>\n",
       "      <th>84</th>\n",
       "      <td>Botswana</td>\n",
       "      <td>2016</td>\n",
       "      <td>66.05297</td>\n",
       "    </tr>\n",
       "    <tr>\n",
       "      <th>67</th>\n",
       "      <td>Burkina Faso</td>\n",
       "      <td>2016</td>\n",
       "      <td>60.32101</td>\n",
       "    </tr>\n",
       "    <tr>\n",
       "      <th>50</th>\n",
       "      <td>Benin</td>\n",
       "      <td>2016</td>\n",
       "      <td>61.08568</td>\n",
       "    </tr>\n",
       "    <tr>\n",
       "      <th>33</th>\n",
       "      <td>Burundi</td>\n",
       "      <td>2016</td>\n",
       "      <td>60.09811</td>\n",
       "    </tr>\n",
       "    <tr>\n",
       "      <th>16</th>\n",
       "      <td>Angola</td>\n",
       "      <td>2016</td>\n",
       "      <td>62.63262</td>\n",
       "    </tr>\n",
       "  </tbody>\n",
       "</table>\n",
       "<p>183 rows × 3 columns</p>\n",
       "</div>"
      ],
      "text/plain": [
       "                               country  year  life_expect\n",
       "3110  Lao People's Democratic Republic  2016     65.79089\n",
       "3093                 Republic of Korea  2016     82.66409\n",
       "3076                          Kiribati  2016     66.12499\n",
       "3059                          Cambodia  2016     69.36723\n",
       "3042                             Japan  2016     84.16616\n",
       "...                                ...   ...          ...\n",
       "84                            Botswana  2016     66.05297\n",
       "67                        Burkina Faso  2016     60.32101\n",
       "50                               Benin  2016     61.08568\n",
       "33                             Burundi  2016     60.09811\n",
       "16                              Angola  2016     62.63262\n",
       "\n",
       "[183 rows x 3 columns]"
      ]
     },
     "execution_count": 31,
     "metadata": {},
     "output_type": "execute_result"
    }
   ],
   "source": [
    "# Sort by index\n",
    "stats.sort_index(ascending=False, inplace=True)\n",
    "stats"
   ]
  }
 ],
 "metadata": {
  "interpreter": {
   "hash": "6c6c49b7dd7343ef535be7b4acad3c61aeb9ab634f061c141cdd7c617db924da"
  },
  "kernelspec": {
   "display_name": "Python 3.9.7 ('base')",
   "language": "python",
   "name": "python3"
  },
  "language_info": {
   "codemirror_mode": {
    "name": "ipython",
    "version": 3
   },
   "file_extension": ".py",
   "mimetype": "text/x-python",
   "name": "python",
   "nbconvert_exporter": "python",
   "pygments_lexer": "ipython3",
   "version": "3.9.7"
  },
  "orig_nbformat": 4
 },
 "nbformat": 4,
 "nbformat_minor": 2
}
